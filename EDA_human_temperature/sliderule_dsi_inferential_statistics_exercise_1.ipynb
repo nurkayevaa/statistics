{
 "cells": [
  {
   "cell_type": "markdown",
   "metadata": {},
   "source": [
    "# What is the True Normal Human Body Temperature? \n",
    "\n",
    "#### Background\n",
    "\n",
    "The mean normal body temperature was held to be 37$^{\\circ}$C or 98.6$^{\\circ}$F for more than 120 years since it was first conceptualized and reported by Carl Wunderlich in a famous 1868 book. But, is this value statistically correct?"
   ]
  },
  {
   "cell_type": "markdown",
   "metadata": {},
   "source": [
    "<h3>Exercises</h3>\n",
    "\n",
    "<p>In this exercise, you will analyze a dataset of human body temperatures and employ the concepts of hypothesis testing, confidence intervals, and statistical significance.</p>\n",
    "\n",
    "<p>Answer the following questions <b>in this notebook below and submit to your Github account</b>.</p> \n",
    "\n",
    "<ol>\n",
    "<li>  Is the distribution of body temperatures normal? \n",
    "    <ul>\n",
    "    <li> Although this is not a requirement for the Central Limit Theorem to hold (read the introduction on Wikipedia's page about the CLT carefully: https://en.wikipedia.org/wiki/Central_limit_theorem), it gives us some peace of mind that the population may also be normally distributed if we assume that this sample is representative of the population.\n",
    "    <li> Think about the way you're going to check for the normality of the distribution. Graphical methods are usually used first, but there are also other ways: https://en.wikipedia.org/wiki/Normality_test\n",
    "    </ul>\n",
    "<li>  Is the sample size large? Are the observations independent?\n",
    "    <ul>\n",
    "    <li> Remember that this is a condition for the Central Limit Theorem, and hence the statistical tests we are using, to apply.\n",
    "    </ul>\n",
    "<li>  Is the true population mean really 98.6 degrees F?\n",
    "    <ul>\n",
    "    <li> First, try a bootstrap hypothesis test.\n",
    "    <li> Now, let's try frequentist statistical testing. Would you use a one-sample or two-sample test? Why?\n",
    "    <li> In this situation, is it appropriate to use the $t$ or $z$ statistic? \n",
    "    <li> Now try using the other test. How is the result be different? Why?\n",
    "    </ul>\n",
    "<li>  Draw a small sample of size 10 from the data and repeat both frequentist tests. \n",
    "    <ul>\n",
    "    <li> Which one is the correct one to use? \n",
    "    <li> What do you notice? What does this tell you about the difference in application of the $t$ and $z$ statistic?\n",
    "    </ul>\n",
    "<li>  At what temperature should we consider someone's temperature to be \"abnormal\"?\n",
    "    <ul>\n",
    "    <li> As in the previous example, try calculating everything using the boostrap approach, as well as the frequentist approach.\n",
    "    <li> Start by computing the margin of error and confidence interval. When calculating the confidence interval, keep in mind that you should use the appropriate formula for one draw, and not N draws.\n",
    "    </ul>\n",
    "<li>  Is there a significant difference between males and females in normal temperature?\n",
    "    <ul>\n",
    "    <li> What testing approach did you use and why?\n",
    "    <li> Write a story with your conclusion in the context of the original problem.\n",
    "    </ul>\n",
    "</ol>\n",
    "\n",
    "You can include written notes in notebook cells using Markdown: \n",
    "   - In the control panel at the top, choose Cell > Cell Type > Markdown\n",
    "   - Markdown syntax: http://nestacms.com/docs/creating-content/markdown-cheat-sheet\n",
    "\n",
    "#### Resources\n",
    "\n",
    "+ Information and data sources: http://www.amstat.org/publications/jse/datasets/normtemp.txt, http://www.amstat.org/publications/jse/jse_data_archive.htm\n",
    "+ Markdown syntax: http://nestacms.com/docs/creating-content/markdown-cheat-sheet\n",
    "\n",
    "****"
   ]
  },
  {
   "cell_type": "markdown",
   "metadata": {},
   "source": [
    "# Is the distribution of body temperatures normal?"
   ]
  },
  {
   "cell_type": "code",
   "execution_count": 1,
   "metadata": {},
   "outputs": [
    {
     "data": {
      "text/html": [
       "<div>\n",
       "<style scoped>\n",
       "    .dataframe tbody tr th:only-of-type {\n",
       "        vertical-align: middle;\n",
       "    }\n",
       "\n",
       "    .dataframe tbody tr th {\n",
       "        vertical-align: top;\n",
       "    }\n",
       "\n",
       "    .dataframe thead th {\n",
       "        text-align: right;\n",
       "    }\n",
       "</style>\n",
       "<table border=\"1\" class=\"dataframe\">\n",
       "  <thead>\n",
       "    <tr style=\"text-align: right;\">\n",
       "      <th></th>\n",
       "      <th>temperature</th>\n",
       "      <th>gender</th>\n",
       "      <th>heart_rate</th>\n",
       "    </tr>\n",
       "  </thead>\n",
       "  <tbody>\n",
       "    <tr>\n",
       "      <th>0</th>\n",
       "      <td>99.3</td>\n",
       "      <td>F</td>\n",
       "      <td>68.0</td>\n",
       "    </tr>\n",
       "    <tr>\n",
       "      <th>1</th>\n",
       "      <td>98.4</td>\n",
       "      <td>F</td>\n",
       "      <td>81.0</td>\n",
       "    </tr>\n",
       "    <tr>\n",
       "      <th>2</th>\n",
       "      <td>97.8</td>\n",
       "      <td>M</td>\n",
       "      <td>73.0</td>\n",
       "    </tr>\n",
       "    <tr>\n",
       "      <th>3</th>\n",
       "      <td>99.2</td>\n",
       "      <td>F</td>\n",
       "      <td>66.0</td>\n",
       "    </tr>\n",
       "    <tr>\n",
       "      <th>4</th>\n",
       "      <td>98.0</td>\n",
       "      <td>F</td>\n",
       "      <td>73.0</td>\n",
       "    </tr>\n",
       "  </tbody>\n",
       "</table>\n",
       "</div>"
      ],
      "text/plain": [
       "   temperature gender  heart_rate\n",
       "0         99.3      F        68.0\n",
       "1         98.4      F        81.0\n",
       "2         97.8      M        73.0\n",
       "3         99.2      F        66.0\n",
       "4         98.0      F        73.0"
      ]
     },
     "execution_count": 1,
     "metadata": {},
     "output_type": "execute_result"
    }
   ],
   "source": [
    "import pandas as pd\n",
    "\n",
    "df = pd.read_csv('data/human_body_temperature.csv')\n",
    "\n",
    "df.head()"
   ]
  },
  {
   "cell_type": "markdown",
   "metadata": {},
   "source": [
    "Is the distribution of body temperatures normal?"
   ]
  },
  {
   "cell_type": "code",
   "execution_count": 2,
   "metadata": {},
   "outputs": [
    {
     "data": {
      "text/html": [
       "<div>\n",
       "<style scoped>\n",
       "    .dataframe tbody tr th:only-of-type {\n",
       "        vertical-align: middle;\n",
       "    }\n",
       "\n",
       "    .dataframe tbody tr th {\n",
       "        vertical-align: top;\n",
       "    }\n",
       "\n",
       "    .dataframe thead th {\n",
       "        text-align: right;\n",
       "    }\n",
       "</style>\n",
       "<table border=\"1\" class=\"dataframe\">\n",
       "  <thead>\n",
       "    <tr style=\"text-align: right;\">\n",
       "      <th></th>\n",
       "      <th>temperature</th>\n",
       "      <th>temp</th>\n",
       "    </tr>\n",
       "  </thead>\n",
       "  <tbody>\n",
       "    <tr>\n",
       "      <th>98.0</th>\n",
       "      <td>11</td>\n",
       "      <td>98.0</td>\n",
       "    </tr>\n",
       "    <tr>\n",
       "      <th>98.2</th>\n",
       "      <td>10</td>\n",
       "      <td>98.2</td>\n",
       "    </tr>\n",
       "    <tr>\n",
       "      <th>98.8</th>\n",
       "      <td>10</td>\n",
       "      <td>98.8</td>\n",
       "    </tr>\n",
       "    <tr>\n",
       "      <th>98.6</th>\n",
       "      <td>10</td>\n",
       "      <td>98.6</td>\n",
       "    </tr>\n",
       "    <tr>\n",
       "      <th>98.4</th>\n",
       "      <td>9</td>\n",
       "      <td>98.4</td>\n",
       "    </tr>\n",
       "  </tbody>\n",
       "</table>\n",
       "</div>"
      ],
      "text/plain": [
       "      temperature  temp\n",
       "98.0           11  98.0\n",
       "98.2           10  98.2\n",
       "98.8           10  98.8\n",
       "98.6           10  98.6\n",
       "98.4            9  98.4"
      ]
     },
     "execution_count": 2,
     "metadata": {},
     "output_type": "execute_result"
    }
   ],
   "source": [
    "\n",
    "df_n_d = df.temperature.value_counts(dropna=False)\n",
    "df.head()\n",
    "df_n_d =df_n_d.to_frame()\n",
    "df_n_d['temp'] = df_n_d.index\n",
    "df_n_d.reset_index()\n",
    "df_n_d.head()\n"
   ]
  },
  {
   "cell_type": "code",
   "execution_count": 3,
   "metadata": {},
   "outputs": [
    {
     "data": {
      "text/plain": [
       "<Figure size 640x480 with 1 Axes>"
      ]
     },
     "metadata": {},
     "output_type": "display_data"
    }
   ],
   "source": [
    "import matplotlib.pyplot as plt \n",
    "_ = plt.plot( df_n_d.index, df_n_d['temperature'], marker='.', linestyle='none')\n",
    "\n",
    "_ = plt.xlabel('time (days)')\n",
    "_ = plt.ylabel('CDF')\n",
    "plt.show()\n"
   ]
  },
  {
   "cell_type": "code",
   "execution_count": 4,
   "metadata": {},
   "outputs": [
    {
     "name": "stderr",
     "output_type": "stream",
     "text": [
      "/anaconda3/lib/python3.7/site-packages/ipykernel_launcher.py:12: MatplotlibDeprecationWarning: scipy.stats.norm.pdf\n",
      "  if sys.path[0] == '':\n"
     ]
    },
    {
     "data": {
      "image/png": "[encoded data removed]",
      "text/plain": [
       "<Figure size 432x288 with 1 Axes>"
      ]
     },
     "metadata": {},
     "output_type": "display_data"
    }
   ],
   "source": [
    "import seaborn as sns\n",
    "import numpy as np\n",
    "import matplotlib.mlab as mlab\n",
    "mu = np.mean(df['temperature'])\n",
    "sigma = np.std(df['temperature'])\n",
    "\n",
    "# Set default Seaborn style\n",
    "\n",
    "sns.set()\n",
    "# Plot histogram of versicolor petal lengths\n",
    "n, bins, patches = plt.hist(df['temperature'], 10, facecolor='blue', alpha=0.5)\n",
    "y = mlab.normpdf(bins,  mu, sigma)\n",
    "plt.plot(bins, y, 'r--')\n",
    "# Show histogram\n",
    "\n",
    "plt.show()\n"
   ]
  },
  {
   "cell_type": "code",
   "execution_count": 5,
   "metadata": {},
   "outputs": [
    {
     "name": "stdout",
     "output_type": "stream",
     "text": [
      "98.24923076923078 98.3\n"
     ]
    },
    {
     "data": {
      "text/plain": [
       "[(98.0, 11)]"
      ]
     },
     "execution_count": 5,
     "metadata": {},
     "output_type": "execute_result"
    }
   ],
   "source": [
    "import statistics as stat\n",
    "print(mu,np.median(df['temperature']) )\n",
    "\n",
    "from collections import Counter\n",
    "data = Counter(df['temperature'])\n",
    "data.most_common()   # Returns all unique items and their counts\n",
    "data.most_common(1) "
   ]
  },
  {
   "cell_type": "code",
   "execution_count": 6,
   "metadata": {},
   "outputs": [
    {
     "data": {
      "image/png": "[encoded data removed]",
      "text/plain": [
       "<Figure size 432x288 with 1 Axes>"
      ]
     },
     "metadata": {},
     "output_type": "display_data"
    }
   ],
   "source": [
    "def ecdf(data):\n",
    "    \"\"\"Compute ECDF for a one-dimensional array of measurements.\"\"\"\n",
    "    # Number of data points: n\n",
    "    n = len( data)\n",
    "\n",
    "    # x-data for the ECDF: x\n",
    "    x = np.sort(data)\n",
    "\n",
    "    # y-data for the ECDF: y\n",
    "    y = np.arange(1, n+1) / n\n",
    "\n",
    "    return x, y\n",
    "\n",
    "\n",
    "\n",
    "inter_df = np.random.normal(mu, sigma, 130)\n",
    "x, y = ecdf(df['temperature'])\n",
    "\n",
    "# Create a CDF from theoretical samples: x_theor, y_theor\n",
    "x_theor, y_theor = ecdf(inter_df)\n",
    "\n",
    "# Overlay the plots\n",
    "plt.plot(x_theor, y_theor)\n",
    "plt.plot(x, y, marker='.', linestyle='none')\n",
    "\n",
    "# Margins and axis labels\n",
    "plt.margins(0.02)\n",
    "plt.xlabel('temperature')\n",
    "plt.ylabel('CDF')\n",
    "\n",
    "# Show the plot\n",
    "plt.show()"
   ]
  },
  {
   "cell_type": "code",
   "execution_count": 7,
   "metadata": {},
   "outputs": [
    {
     "data": {
      "text/plain": [
       "KstestResult(statistic=1.0, pvalue=0.0)"
      ]
     },
     "execution_count": 7,
     "metadata": {},
     "output_type": "execute_result"
    }
   ],
   "source": [
    "from scipy import stats\n",
    "x = df['temperature']\n",
    "stats.kstest(x, 'norm')\n"
   ]
  },
  {
   "cell_type": "markdown",
   "metadata": {},
   "source": [
    "Yes, distribution is normal."
   ]
  },
  {
   "cell_type": "markdown",
   "metadata": {},
   "source": [
    "# Is the sample size large? Are the observations independent?"
   ]
  },
  {
   "cell_type": "code",
   "execution_count": 49,
   "metadata": {},
   "outputs": [
    {
     "name": "stdout",
     "output_type": "stream",
     "text": [
      "Sample size contains 130 observations, it is normal, observations are independant\n"
     ]
    }
   ],
   "source": [
    "print( 'Sample size contains %d observations, it is normal, observations are independant' % len(df))"
   ]
  },
  {
   "cell_type": "markdown",
   "metadata": {},
   "source": [
    "# Is the true population mean really 98.6 degrees F?"
   ]
  },
  {
   "cell_type": "code",
   "execution_count": 9,
   "metadata": {},
   "outputs": [
    {
     "name": "stdout",
     "output_type": "stream",
     "text": [
      "98.24923076923078\n"
     ]
    },
    {
     "data": {
      "text/plain": [
       "0"
      ]
     },
     "execution_count": 9,
     "metadata": {},
     "output_type": "execute_result"
    }
   ],
   "source": [
    "print(np.mean(df['temperature']) )\n",
    "df['temperature'].isna().sum() \n",
    "#df['temperature']\n"
   ]
  },
  {
   "cell_type": "code",
   "execution_count": 10,
   "metadata": {},
   "outputs": [
    {
     "data": {
      "text/plain": [
       "-0.35076923076921673"
      ]
     },
     "execution_count": 10,
     "metadata": {},
     "output_type": "execute_result"
    }
   ],
   "source": [
    "population_mean = 98.6 \n",
    "sample_shifted = df['temperature']  - np.mean(df['temperature']) + population_mean\n",
    "\n",
    "def diff_from_pop(data, population_mean = 98.6 ):\n",
    "    return np.mean(data) - population_mean\n",
    "\n",
    "diff_obs = diff_from_pop(df['temperature']) \n",
    "diff_obs"
   ]
  },
  {
   "cell_type": "code",
   "execution_count": 11,
   "metadata": {},
   "outputs": [],
   "source": [
    "def draw_bs_reps(data, func, size=1):\n",
    "    \"\"\"Draw bootstrap replicates from a data set.\"\"\"\n",
    "    n = len(data)\n",
    "    \n",
    "    # Initialize array of replicates\n",
    "    reps = np.empty(size)\n",
    "    \n",
    "    for i in range(size):\n",
    "        # Generate bootstrap sample\n",
    "        bs_sample = np.random.choice(data, n)\n",
    "        \n",
    "        # Compute replicate\n",
    "        reps[i] = func(bs_sample)\n",
    "        \n",
    "    return reps"
   ]
  },
  {
   "cell_type": "code",
   "execution_count": 12,
   "metadata": {},
   "outputs": [
    {
     "name": "stdout",
     "output_type": "stream",
     "text": [
      "p =  0.0\n"
     ]
    }
   ],
   "source": [
    "\n",
    "# Make an array of translated impact forces: translated_force_b\n",
    "translated_force_b = df['temperature'] - np.mean(df['temperature']) + 98.6\n",
    "\n",
    "# Take bootstrap replicates of Frog B's translated impact forces: bs_replicates\n",
    "bs_replicates = draw_bs_reps(translated_force_b, np.mean, 40)\n",
    "\n",
    "# Compute fraction of replicates that are less than the observed Frog B force: p\n",
    "p = np.sum(bs_replicates <= np.mean(df['temperature'])) / 40\n",
    "\n",
    "# Print the p-value\n",
    "print('p = ', p)\n"
   ]
  },
  {
   "cell_type": "code",
   "execution_count": 51,
   "metadata": {},
   "outputs": [],
   "source": [
    "import scipy.stats as stats\n",
    "import math\n",
    "import random\n",
    "z_critical = stats.norm.ppf(q = 0.975)\n",
    "sample_mean = np.mean(df['temperature'])\n",
    "\n",
    "pop_stdev = df['temperature'].std()  # Get the population standard deviation\n",
    "\n",
    "margin_of_error = z_critical * (pop_stdev/math.sqrt(len(df['temperature'])))\n",
    "\n",
    "confidence_interval = (sample_mean - margin_of_error,\n",
    "                       sample_mean + margin_of_error)  \n"
   ]
  },
  {
   "cell_type": "code",
   "execution_count": 52,
   "metadata": {},
   "outputs": [
    {
     "data": {
      "text/plain": [
       "(98.12319642818166, 98.3752651102799)"
      ]
     },
     "execution_count": 52,
     "metadata": {},
     "output_type": "execute_result"
    }
   ],
   "source": [
    "confidence_interval"
   ]
  },
  {
   "cell_type": "markdown",
   "metadata": {},
   "source": [
    "98.6 is outside of confidence_interval (98.12319642818166, 98.3752651102799), 98.6 is not population mean"
   ]
  },
  {
   "cell_type": "markdown",
   "metadata": {},
   "source": [
    "# Draw a small sample of size 10 from the data and repeat both frequentist tests."
   ]
  },
  {
   "cell_type": "code",
   "execution_count": 16,
   "metadata": {},
   "outputs": [
    {
     "name": "stdout",
     "output_type": "stream",
     "text": [
      "t-critical value:\n",
      "2.0638985616280205\n",
      "Confidence interval:\n",
      "(97.53285755839354, 98.36714244160646)\n"
     ]
    }
   ],
   "source": [
    "\n",
    "sample_size = 10\n",
    "sample = np.random.choice(a= df['temperature'], size = sample_size)\n",
    "\n",
    "\n",
    "#95%\n",
    "sample_mean = sample.mean()\n",
    "\n",
    "t_critical = stats.t.ppf(q = 0.975, df=24)  # Get the t-critical value*\n",
    "\n",
    "print(\"t-critical value:\")                  # Check the t-critical value\n",
    "print(t_critical)                        \n",
    "\n",
    "sample_stdev = sample.std()    # Get the sample standard deviation\n",
    "\n",
    "sigma = sample_stdev/math.sqrt(sample_size)  # Standard deviation estimate\n",
    "margin_of_error = t_critical * sigma\n",
    "\n",
    "confidence_interval = (sample_mean - margin_of_error,\n",
    "                       sample_mean + margin_of_error)  \n",
    "\n",
    "print(\"Confidence interval:\")\n",
    "print(confidence_interval)"
   ]
  },
  {
   "cell_type": "code",
   "execution_count": 17,
   "metadata": {},
   "outputs": [
    {
     "name": "stdout",
     "output_type": "stream",
     "text": [
      "z-critical value:\n",
      "1.959963984540054\n",
      "Confidence interval:\n",
      "(97.49557672087809, 98.40442327912191)\n"
     ]
    }
   ],
   "source": [
    "# z asumes we know std of pop, t gives better estimate, narrow confidence is always better, precise range\n",
    "\n",
    "z_critical = stats.norm.ppf(q = 0.975)  # Get the z-critical value*\n",
    "\n",
    "print(\"z-critical value:\")              # Check the z-critical value\n",
    "print(z_critical)                        \n",
    "\n",
    "pop_stdev = df['temperature'].std()  # Get the population standard deviation\n",
    "\n",
    "margin_of_error = z_critical * (pop_stdev/math.sqrt(sample_size))\n",
    "\n",
    "confidence_interval = (sample_mean - margin_of_error,\n",
    "                       sample_mean + margin_of_error)  \n",
    "\n",
    "print(\"Confidence interval:\")\n",
    "print(confidence_interval)"
   ]
  },
  {
   "cell_type": "markdown",
   "metadata": {},
   "source": [
    "t test is teh correct one to use"
   ]
  },
  {
   "cell_type": "markdown",
   "metadata": {},
   "source": [
    "# At what temperature should we consider someone's temperature to be \"abnormal\"?"
   ]
  },
  {
   "cell_type": "code",
   "execution_count": 18,
   "metadata": {},
   "outputs": [],
   "source": [
    "# based on t distribution 99% conf interval "
   ]
  },
  {
   "cell_type": "code",
   "execution_count": 38,
   "metadata": {},
   "outputs": [
    {
     "data": {
      "text/plain": [
       "1.6448536269514722"
      ]
     },
     "execution_count": 38,
     "metadata": {},
     "output_type": "execute_result"
    }
   ],
   "source": [
    "st.norm.ppf(.95)"
   ]
  },
  {
   "cell_type": "code",
   "execution_count": 39,
   "metadata": {},
   "outputs": [
    {
     "data": {
      "text/plain": [
       "-1.6448536269514729"
      ]
     },
     "execution_count": 39,
     "metadata": {},
     "output_type": "execute_result"
    }
   ],
   "source": [
    "st.norm.ppf(.05)"
   ]
  },
  {
   "cell_type": "code",
   "execution_count": 45,
   "metadata": {},
   "outputs": [
    {
     "data": {
      "text/plain": [
       "(98.12319642818166, 98.3752651102799)"
      ]
     },
     "execution_count": 45,
     "metadata": {},
     "output_type": "execute_result"
    }
   ],
   "source": [
    "import scipy.stats as stats\n",
    "import math\n",
    "import random\n",
    "z_critical = stats.norm.ppf(q = 0.975)\n",
    "sample_mean = np.mean(df['temperature'])\n",
    "\n",
    "pop_stdev = df['temperature'].std()  # Get the population standard deviation\n",
    "\n",
    "margin_of_error = z_critical * (pop_stdev/math.sqrt(len(df['temperature'])))\n",
    "\n",
    "confidence_interval = (sample_mean - margin_of_error,\n",
    "                       sample_mean + margin_of_error)  \n",
    "\n",
    "confidence_interval"
   ]
  },
  {
   "cell_type": "markdown",
   "metadata": {},
   "source": [
    "Any temperature taht is outside of the interval (98.12, 98.38) is abnormal"
   ]
  },
  {
   "cell_type": "markdown",
   "metadata": {},
   "source": [
    "# Is there a significant difference between males and females in normal temperature?"
   ]
  },
  {
   "cell_type": "markdown",
   "metadata": {},
   "source": [
    "$H_{0}$ : $\\mu_{F}$ - $\\mu_{M}$ = 0\n",
    "\n",
    "$H_{A}$ : $\\mu_{F}$ - $\\mu_{M}$ $\\neq$ 0 \n",
    "\n",
    "\n",
    "With an assumption that $H_{0}$ is correct what is the probability of getting 0.2892 as difference between $\\mu_{F}$ and $\\mu_{M}$ with $\\alpha$ =0.05\n"
   ]
  },
  {
   "cell_type": "code",
   "execution_count": 23,
   "metadata": {},
   "outputs": [],
   "source": [
    "df_F = df[df['gender'] == 'F']\n",
    "df_M = df[df['gender'] == 'M']\n",
    "#z test \n"
   ]
  },
  {
   "cell_type": "code",
   "execution_count": 24,
   "metadata": {},
   "outputs": [
    {
     "name": "stdout",
     "output_type": "stream",
     "text": [
      "mean difference : 0.289230769230727\n",
      "mean_F : 98.39384615384613\n",
      "mean_M : 98.1046153846154\n",
      "std_F : 0.7377464486428966\n",
      "std_M : 0.6933598841828696\n",
      "sample size F : 65\n",
      "sample size M : 65\n"
     ]
    }
   ],
   "source": [
    "mean_M = np.mean(df_M['temperature'])\n",
    "mean_F = np.mean(df_F['temperature'])\n",
    "std_M = np.std(df_M['temperature'])\n",
    "std_F = np.std(df_F['temperature'])\n",
    "n_F = len(df_F['temperature'])\n",
    "n_M = len(df_M['temperature'])\n",
    "\n",
    "print ('mean difference :',  mean_F - mean_M)\n",
    "print ('mean_F :',  mean_F )\n",
    "print ('mean_M :',  mean_M)\n",
    "print ('std_F :',  std_F )\n",
    "print ('std_M :',  std_M)\n",
    "print ('sample size F :',  len(df_F['temperature']))\n",
    "print ('sample size M :',  len(df_M['temperature']))\n"
   ]
  },
  {
   "cell_type": "markdown",
   "metadata": {},
   "source": [
    "sigma : "
   ]
  },
  {
   "cell_type": "markdown",
   "metadata": {},
   "source": [
    "\\begin{equation*}\n",
    "\\sigma_{\\bar{x}_{F} - \\bar{x}_{M}} = {\\sqrt{ \\frac{{S}_{F}^2}{{n}_{F}}+ \\frac{{S}_{M}^2}{{n}_{M}}}} \\end{equation*}"
   ]
  },
  {
   "cell_type": "code",
   "execution_count": 40,
   "metadata": {},
   "outputs": [],
   "source": [
    "import math\n",
    "sigma = math.sqrt(std_F**2/n_F-std_M**2/n_M)"
   ]
  },
  {
   "cell_type": "code",
   "execution_count": 41,
   "metadata": {},
   "outputs": [
    {
     "data": {
      "text/plain": [
       "1.6448536269514722"
      ]
     },
     "execution_count": 41,
     "metadata": {},
     "output_type": "execute_result"
    }
   ],
   "source": [
    "from scipy import stats\n",
    "\n",
    "st.norm.cdf(1.64)\n",
    "st.norm.ppf(.95)"
   ]
  },
  {
   "cell_type": "code",
   "execution_count": 42,
   "metadata": {},
   "outputs": [
    {
     "data": {
      "text/plain": [
       "0.05142002649771265"
      ]
     },
     "execution_count": 42,
     "metadata": {},
     "output_type": "execute_result"
    }
   ],
   "source": [
    "sigma*st.norm.ppf(.95)"
   ]
  },
  {
   "cell_type": "code",
   "execution_count": 46,
   "metadata": {},
   "outputs": [
    {
     "data": {
      "text/plain": [
       "(0.23781074273301434, 0.34065079572843965)"
      ]
     },
     "execution_count": 46,
     "metadata": {},
     "output_type": "execute_result"
    }
   ],
   "source": [
    "confidence_interval = (mean_F - mean_M - sigma*st.norm.ppf(.95),\n",
    "                       mean_F - mean_M + sigma*st.norm.ppf(.95))  \n",
    "\n",
    "confidence_interval"
   ]
  },
  {
   "cell_type": "markdown",
   "metadata": {},
   "source": [
    "mean difference is inside of confidence interval of (0.24, 0.34), there is a significant difference between males and females in normal temperature?¶"
   ]
  },
  {
   "cell_type": "code",
   "execution_count": null,
   "metadata": {},
   "outputs": [],
   "source": []
  }
 ],
 "metadata": {
  "kernelspec": {
   "display_name": "Python 3",
   "language": "python",
   "name": "python3"
  },
  "language_info": {
   "codemirror_mode": {
    "name": "ipython",
    "version": 3
   },
   "file_extension": ".py",
   "mimetype": "text/x-python",
   "name": "python",
   "nbconvert_exporter": "python",
   "pygments_lexer": "ipython3",
   "version": "3.7.0"
  }
 },
 "nbformat": 4,
 "nbformat_minor": 1
}
